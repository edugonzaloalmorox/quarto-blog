{
  "cells": [
    {
      "cell_type": "raw",
      "metadata": {},
      "source": [
        "---\n",
        "title: \"Setting up a AWS environment on Mac\"\n",
        "author: \"Edu Gonzalo-Almorox\"\n",
        "date: \"2023-05-26\"\n",
        "categories: [aws, mlops]\n",
        "image: \"image.jpg\"\n",
        "---"
      ],
      "id": "0d771806"
    },
    {
      "cell_type": "markdown",
      "metadata": {},
      "source": [
        "# Introduction\n",
        "\n",
        "The beginning of my MLOps Zoomcamp course developed by Alexey consists of setting up the environment that allows my local machine (a MacBook pro) to interact with the services offered by AWS. Although the steps to follow are very well detailed in this video or in these notes, there are some issues still worth noting for Mac users.\n",
        "\n",
        "## 1. Connection of EC2 to local machine\n",
        "\n",
        "As suggested by the instructor, the most convenient type of instance is a t2,xlarge Amazon Linux. Once launched on AWS management console the way to connect to your local machine is by locating the `.pem` created while starting the instance in the ssh folder and running the following command in the terminal\n"
      ],
      "id": "af52d3ec"
    },
    {
      "cell_type": "code",
      "metadata": {},
      "source": [
        "ssh -i ~/.ssh/pepino.pem ec2-user@<public IPv4 address>"
      ],
      "id": "87945259",
      "execution_count": null,
      "outputs": []
    }
  ],
  "metadata": {
    "kernelspec": {
      "name": "python3",
      "language": "python",
      "display_name": "Python 3 (ipykernel)"
    }
  },
  "nbformat": 4,
  "nbformat_minor": 5
}